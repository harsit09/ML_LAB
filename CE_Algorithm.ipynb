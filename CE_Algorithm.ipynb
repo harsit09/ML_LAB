{
  "nbformat": 4,
  "nbformat_minor": 0,
  "metadata": {
    "colab": {
      "provenance": [],
      "authorship_tag": "ABX9TyMzUS9ByJTUq2akk7EVGdDN",
      "include_colab_link": true
    },
    "kernelspec": {
      "name": "python3",
      "display_name": "Python 3"
    },
    "language_info": {
      "name": "python"
    }
  },
  "cells": [
    {
      "cell_type": "markdown",
      "metadata": {
        "id": "view-in-github",
        "colab_type": "text"
      },
      "source": [
        "<a href=\"https://colab.research.google.com/github/anirudh0345/ML_LAB/blob/main/CE_Algorithm.ipynb\" target=\"_parent\"><img src=\"https://colab.research.google.com/assets/colab-badge.svg\" alt=\"Open In Colab\"/></a>"
      ]
    },
    {
      "cell_type": "code",
      "execution_count": 20,
      "metadata": {
        "id": "xBy2aT-uuX3l"
      },
      "outputs": [],
      "source": [
        "import numpy as np\n",
        "import pandas as pd"
      ]
    },
    {
      "cell_type": "code",
      "source": [
        "from google.colab import drive\n",
        "drive.mount(\"/content/drive\")"
      ],
      "metadata": {
        "id": "tbaleIECub4V",
        "colab": {
          "base_uri": "https://localhost:8080/"
        },
        "outputId": "2108a243-643c-42a0-b22f-9accc18e1f84"
      },
      "execution_count": 21,
      "outputs": [
        {
          "output_type": "stream",
          "name": "stdout",
          "text": [
            "Drive already mounted at /content/drive; to attempt to forcibly remount, call drive.mount(\"/content/drive\", force_remount=True).\n"
          ]
        }
      ]
    },
    {
      "cell_type": "code",
      "source": [
        "data = pd.read_csv(\"/content/drive/MyDrive/finddata.csv\")\n",
        "print(data,\"\\n\")"
      ],
      "metadata": {
        "id": "MPQD2DPVueu8",
        "colab": {
          "base_uri": "https://localhost:8080/"
        },
        "outputId": "58e98709-bc84-46fe-939d-d018bc7c2b38"
      },
      "execution_count": 22,
      "outputs": [
        {
          "output_type": "stream",
          "name": "stdout",
          "text": [
            "      Time Weather Temperature Company Humidity    Wind Goes\n",
            "0  Morning   Sunny        Warm     Yes     Mild  Strong  Yes\n",
            "1  Evening   Rainy        Cold      No     Mild  Normal   No\n",
            "2  Morning   Sunny    Moderate     Yes   Normal  Normal  Yes\n",
            "3  Evening   Sunny        Cold     Yes     High  Strong  Yes \n",
            "\n"
          ]
        }
      ]
    },
    {
      "cell_type": "code",
      "source": [
        "\n",
        "concepts = np.array(data.iloc[:,:-1])\n",
        "print(\"\\n The attributes are: \",concepts)\n",
        "\n",
        "target = np.array(data.iloc[:,-1])\n",
        "print(\"\\n The target is: \",target)\n",
        "\n",
        "def learn(concepts, target): \n",
        "    specific_h = concepts[0].copy()\n",
        "    print(\"\\nInitialization of specific_h and genearal_h\")\n",
        "    print(\"\\nSpecific Boundary: \", specific_h)\n",
        "    general_h = [[\"?\" for i in range(len(specific_h))] for i in range(len(specific_h))]\n",
        "    print(\"\\nGeneric Boundary: \",general_h)  \n",
        "\n",
        "    for i, h in enumerate(concepts):\n",
        "        print(\"\\nInstance\", i+1 , \"is \", h)\n",
        "        if target[i] == \"Yes\":\n",
        "            print(\"Instance is Positive \")\n",
        "            for x in range(len(specific_h)): \n",
        "                if h[x]!= specific_h[x]:                    \n",
        "                    specific_h[x] ='?'                     \n",
        "                    general_h[x][x] ='?'\n",
        "                   \n",
        "        if target[i] == \"No\":            \n",
        "            print(\"Instance is Negative \")\n",
        "            for x in range(len(specific_h)): \n",
        "                if h[x]!= specific_h[x]:                    \n",
        "                    general_h[x][x] = specific_h[x]                \n",
        "                else:                    \n",
        "                    general_h[x][x] = '?'        \n",
        "        \n",
        "        print(\"Specific Bundary after \", i+1, \"Instance is \", specific_h)         \n",
        "        print(\"Generic Boundary after \", i+1, \"Instance is \", general_h)\n",
        "        print(\"\\n\")\n",
        "\n",
        "    indices = [i for i, val in enumerate(general_h) if val == ['?', '?', '?', '?', '?', '?']]    \n",
        "    for i in indices:   \n",
        "        general_h.remove(['?', '?', '?', '?', '?', '?']) \n",
        "    return specific_h, general_h \n",
        "\n",
        "s_final, g_final = learn(concepts, target)"
      ],
      "metadata": {
        "id": "W1rgXYlYugrz",
        "colab": {
          "base_uri": "https://localhost:8080/"
        },
        "outputId": "90cff802-2406-4ff4-cffe-67798bd0c9a2"
      },
      "execution_count": 30,
      "outputs": [
        {
          "output_type": "stream",
          "name": "stdout",
          "text": [
            "\n",
            " The attributes are:  [['Morning' 'Sunny' 'Warm' 'Yes' 'Mild' 'Strong']\n",
            " ['Evening' 'Rainy' 'Cold' 'No' 'Mild' 'Normal']\n",
            " ['Morning' 'Sunny' 'Moderate' 'Yes' 'Normal' 'Normal']\n",
            " ['Evening' 'Sunny' 'Cold' 'Yes' 'High' 'Strong']]\n",
            "\n",
            " The target is:  ['Yes' 'No' 'Yes' 'Yes']\n",
            "\n",
            "Initialization of specific_h and genearal_h\n",
            "\n",
            "Specific Boundary:  ['Morning' 'Sunny' 'Warm' 'Yes' 'Mild' 'Strong']\n",
            "\n",
            "Generic Boundary:  [['?', '?', '?', '?', '?', '?'], ['?', '?', '?', '?', '?', '?'], ['?', '?', '?', '?', '?', '?'], ['?', '?', '?', '?', '?', '?'], ['?', '?', '?', '?', '?', '?'], ['?', '?', '?', '?', '?', '?']]\n",
            "\n",
            "Instance 1 is  ['Morning' 'Sunny' 'Warm' 'Yes' 'Mild' 'Strong']\n",
            "Instance is Positive \n",
            "Specific Bundary after  1 Instance is  ['Morning' 'Sunny' 'Warm' 'Yes' 'Mild' 'Strong']\n",
            "Generic Boundary after  1 Instance is  [['?', '?', '?', '?', '?', '?'], ['?', '?', '?', '?', '?', '?'], ['?', '?', '?', '?', '?', '?'], ['?', '?', '?', '?', '?', '?'], ['?', '?', '?', '?', '?', '?'], ['?', '?', '?', '?', '?', '?']]\n",
            "\n",
            "\n",
            "\n",
            "Instance 2 is  ['Evening' 'Rainy' 'Cold' 'No' 'Mild' 'Normal']\n",
            "Instance is Negative \n",
            "Specific Bundary after  2 Instance is  ['Morning' 'Sunny' 'Warm' 'Yes' 'Mild' 'Strong']\n",
            "Generic Boundary after  2 Instance is  [['Morning', '?', '?', '?', '?', '?'], ['?', 'Sunny', '?', '?', '?', '?'], ['?', '?', 'Warm', '?', '?', '?'], ['?', '?', '?', 'Yes', '?', '?'], ['?', '?', '?', '?', '?', '?'], ['?', '?', '?', '?', '?', 'Strong']]\n",
            "\n",
            "\n",
            "\n",
            "Instance 3 is  ['Morning' 'Sunny' 'Moderate' 'Yes' 'Normal' 'Normal']\n",
            "Instance is Positive \n",
            "Specific Bundary after  3 Instance is  ['Morning' 'Sunny' '?' 'Yes' '?' '?']\n",
            "Generic Boundary after  3 Instance is  [['Morning', '?', '?', '?', '?', '?'], ['?', 'Sunny', '?', '?', '?', '?'], ['?', '?', '?', '?', '?', '?'], ['?', '?', '?', 'Yes', '?', '?'], ['?', '?', '?', '?', '?', '?'], ['?', '?', '?', '?', '?', '?']]\n",
            "\n",
            "\n",
            "\n",
            "Instance 4 is  ['Evening' 'Sunny' 'Cold' 'Yes' 'High' 'Strong']\n",
            "Instance is Positive \n",
            "Specific Bundary after  4 Instance is  ['?' 'Sunny' '?' 'Yes' '?' '?']\n",
            "Generic Boundary after  4 Instance is  [['?', '?', '?', '?', '?', '?'], ['?', 'Sunny', '?', '?', '?', '?'], ['?', '?', '?', '?', '?', '?'], ['?', '?', '?', 'Yes', '?', '?'], ['?', '?', '?', '?', '?', '?'], ['?', '?', '?', '?', '?', '?']]\n",
            "\n",
            "\n"
          ]
        }
      ]
    },
    {
      "cell_type": "code",
      "source": [
        "print(\"Final Specific_h: \", s_final, sep=\"\\n\")\n",
        "print(\"Final General_h: \", g_final, sep=\"\\n\")"
      ],
      "metadata": {
        "colab": {
          "base_uri": "https://localhost:8080/"
        },
        "id": "EBxvKLbcey5B",
        "outputId": "c4d5b7bb-fc7b-4225-e069-befbe6fad81b"
      },
      "execution_count": 29,
      "outputs": [
        {
          "output_type": "stream",
          "name": "stdout",
          "text": [
            "Final Specific_h: \n",
            "['Morning' 'Sunny' 'Warm' 'Yes' 'Mild' 'Strong']\n",
            "Final General_h: \n",
            "[]\n"
          ]
        }
      ]
    }
  ]
}